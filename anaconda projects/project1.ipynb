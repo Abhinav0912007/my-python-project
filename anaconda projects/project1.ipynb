{
 "cells": [
  {
   "cell_type": "code",
   "execution_count": 1,
   "id": "933048de-4ca3-4a33-9da0-11496485a987",
   "metadata": {},
   "outputs": [],
   "source": [
    "import json"
   ]
  },
  {
   "cell_type": "code",
   "execution_count": 17,
   "id": "4bee3f2d-342c-4261-8f58-bd1bc5be95ff",
   "metadata": {},
   "outputs": [],
   "source": [
    "def load_data(filename):\n",
    "    with open(filename,\"r\") as f:\n",
    "        data =json.load(f)\n",
    "    return data\n"
   ]
  },
  {
   "cell_type": "code",
   "execution_count": 18,
   "id": "581304f4-b377-42ea-8077-90c4b8e7bddf",
   "metadata": {},
   "outputs": [],
   "source": [
    "data1=load_data(\"data.json\")"
   ]
  },
  {
   "cell_type": "code",
   "execution_count": 19,
   "id": "a0bbc2b9-dd21-4911-8313-f1eca43d3712",
   "metadata": {},
   "outputs": [
    {
     "data": {
      "text/plain": [
       "{'users': [{'id': 1, 'name': 'Amit', 'friends': [2, 3], 'liked_pages': [101]},\n",
       "  {'id': 2, 'name': 'Priya', 'friends': [1, 4], 'liked_pages': [102]},\n",
       "  {'id': 3, 'name': 'Rahul', 'friends': [1], 'liked_pages': [101, 103]},\n",
       "  {'id': 4, 'name': 'Sara', 'friends': [2], 'liked_pages': [104]}],\n",
       " 'pages': [{'id': 101, 'name': 'Python Developers'},\n",
       "  {'id': 102, 'name': 'Data Science Enthusiasts'},\n",
       "  {'id': 103, 'name': 'AI & ML Community'},\n",
       "  {'id': 104, 'name': 'Web Dev Hub'}]}"
      ]
     },
     "execution_count": 19,
     "metadata": {},
     "output_type": "execute_result"
    }
   ],
   "source": [
    "data1"
   ]
  },
  {
   "cell_type": "code",
   "execution_count": 39,
   "id": "3481deb3-2f44-431b-ae83-dd6b6f630fda",
   "metadata": {},
   "outputs": [
    {
     "name": "stdout",
     "output_type": "stream",
     "text": [
      "User information\n",
      "Amit is friends with [2, 3] and liked pages are [101]\n",
      "Priya is friends with [1, 4] and liked pages are [102]\n",
      "Rahul is friends with [1] and liked pages are [101, 103]\n",
      "Sara is friends with [2] and liked pages are [104]\n",
      "Page information\n",
      "101: Python Developers\n",
      "102: Data Science Enthusiasts\n",
      "103: AI & ML Community\n",
      "104: Web Dev Hub\n"
     ]
    }
   ],
   "source": [
    "def display(data1):\n",
    "    print(\"User information\")\n",
    "    for user in data1['users']:\n",
    "        print(f\"{user['name']} is friends with {user['friends']} and liked pages are {user['liked_pages']}\")\n",
    "        \n",
    "\n",
    "def page_detail(data1):\n",
    "    print(\"Page information\")  \n",
    "    for page in data1['pages']:\n",
    "         print(f\"{page['id']}: {page['name']}\")\n",
    "    \n",
    "display(data1)\n",
    "page_detail(data1)"
   ]
  }
 ],
 "metadata": {
  "kernelspec": {
   "display_name": "Python 3 (ipykernel)",
   "language": "python",
   "name": "python3"
  },
  "language_info": {
   "codemirror_mode": {
    "name": "ipython",
    "version": 3
   },
   "file_extension": ".py",
   "mimetype": "text/x-python",
   "name": "python",
   "nbconvert_exporter": "python",
   "pygments_lexer": "ipython3",
   "version": "3.12.7"
  }
 },
 "nbformat": 4,
 "nbformat_minor": 5
}
