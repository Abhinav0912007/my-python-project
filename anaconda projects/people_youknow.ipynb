{
 "cells": [
  {
   "cell_type": "code",
   "execution_count": 1,
   "id": "c562a529-a92e-45fc-9598-59ef8ae28ef8",
   "metadata": {},
   "outputs": [],
   "source": [
    "import json"
   ]
  },
  {
   "cell_type": "code",
   "execution_count": null,
   "id": "65dd8d01-aa9f-49a0-9099-05f4109f47df",
   "metadata": {},
   "outputs": [],
   "source": [
    "def load_load(filename):\n",
    "    with open(\"data.json\",\"r\") as f:\n",
    "        return json.load(f)\n",
    "def find_people_you_may_know(user_id,data):\n",
    "    user_friends={}\n",
    "    for user in data[\"users\"]:\n",
    "        user_friends[user[\"id\"]]=set(user[\"friends\"])\n",
    "    if user_id not in user_friends:\n",
    "        return []\n",
    "    direct_friends  = user_friends[user_id] \n",
    "    suggestions={}\n",
    "    for friend in direct_friends:\n",
    "        for mutual in user_friends{friend]:\n",
    "              if mutual!=user_id and mutual not in direct_friends:\n",
    "                  suggestions[mutual]=suggestio.items.get(mutual,0)+1\n",
    "     sorted_suggestions=sorted(suggestions(),key=lambda x:x[1],reverse=True)\n",
    "     return\n",
    "\n",
    "data=load_data(\"data.json\")\n",
    "user_id=1\n",
    "recc=find_people_you_may_know(user_id,data)\n",
    "  "
   ]
  }
 ],
 "metadata": {
  "kernelspec": {
   "display_name": "Python 3 (ipykernel)",
   "language": "python",
   "name": "python3"
  },
  "language_info": {
   "codemirror_mode": {
    "name": "ipython",
    "version": 3
   },
   "file_extension": ".py",
   "mimetype": "text/x-python",
   "name": "python",
   "nbconvert_exporter": "python",
   "pygments_lexer": "ipython3",
   "version": "3.12.7"
  }
 },
 "nbformat": 4,
 "nbformat_minor": 5
}
