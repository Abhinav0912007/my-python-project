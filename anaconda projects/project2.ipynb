{
 "cells": [
  {
   "cell_type": "code",
   "execution_count": 2,
   "id": "50e076f9-9b7e-4187-901f-f53ce1c5f00d",
   "metadata": {},
   "outputs": [],
   "source": [
    "import json"
   ]
  },
  {
   "cell_type": "code",
   "execution_count": 25,
   "id": "879c8556-901b-4069-914f-be043ac45f09",
   "metadata": {
    "scrolled": true
   },
   "outputs": [],
   "source": [
    "def clean_data(data):\n",
    "    data[\"users\"]=[user for user in data[\"users\"] if user[\"name\"].strip()] \n",
    "    for user in data[\"users\"]:\n",
    "        user[\"friends\"]=list(set(user[\"friends\"]))\n",
    "    data[\"users\"]=[user for user in data[\"users\"] if user[\"friends\"] or user[\"liked_pages\"]]    \n",
    "    unique_pages={}\n",
    "    for page in data[\"pages\"]:\n",
    "        unique_pages[page[\"id\"]]=page\n",
    "    data[\"pages\"]=list(unique_pages.values())\n",
    "        \n",
    "        \n",
    "        \n",
    "    return data\n",
    "\n",
    "data=json.load(open(\"project.json\"))\n",
    "data=clean_data(data)\n",
    "\n",
    "with open(\"cleaned_data2.json\",\"w\")as f:\n",
    "    json.dump(data,f)\n",
    "          "
   ]
  },
  {
   "cell_type": "code",
   "execution_count": null,
   "id": "235f2eaf-ab0c-473a-8874-048c484904c0",
   "metadata": {},
   "outputs": [],
   "source": []
  }
 ],
 "metadata": {
  "kernelspec": {
   "display_name": "Python 3 (ipykernel)",
   "language": "python",
   "name": "python3"
  },
  "language_info": {
   "codemirror_mode": {
    "name": "ipython",
    "version": 3
   },
   "file_extension": ".py",
   "mimetype": "text/x-python",
   "name": "python",
   "nbconvert_exporter": "python",
   "pygments_lexer": "ipython3",
   "version": "3.12.7"
  }
 },
 "nbformat": 4,
 "nbformat_minor": 5
}
